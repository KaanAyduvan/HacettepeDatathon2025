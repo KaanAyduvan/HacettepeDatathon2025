{
 "cells": [
  {
   "cell_type": "markdown",
   "metadata": {},
   "source": [
    "# <span style=\"color: #66cdaa ;\">Verinin Yüklenmesi ve Ortak Dataframe'e Atanması</span>"
   ]
  },
  {
   "cell_type": "code",
   "execution_count": 47,
   "metadata": {
    "execution": {
     "iopub.execute_input": "2025-03-09T15:04:49.628997Z",
     "iopub.status.busy": "2025-03-09T15:04:49.628656Z",
     "iopub.status.idle": "2025-03-09T15:04:49.633753Z",
     "shell.execute_reply": "2025-03-09T15:04:49.632730Z",
     "shell.execute_reply.started": "2025-03-09T15:04:49.628962Z"
    },
    "trusted": true
   },
   "outputs": [],
   "source": [
    "import pandas as pd\n",
    "import numpy as np\n",
    "import os\n",
    "import warnings\n",
    "warnings.filterwarnings(\"ignore\", message=\"invalid value encountered\", category=RuntimeWarning)"
   ]
  },
  {
   "cell_type": "code",
   "execution_count": 48,
   "metadata": {
    "execution": {
     "iopub.execute_input": "2025-03-09T15:04:49.649823Z",
     "iopub.status.busy": "2025-03-09T15:04:49.649471Z",
     "iopub.status.idle": "2025-03-09T15:04:49.754388Z",
     "shell.execute_reply": "2025-03-09T15:04:49.753356Z",
     "shell.execute_reply.started": "2025-03-09T15:04:49.649795Z"
    },
    "trusted": true
   },
   "outputs": [],
   "source": [
    "root_dir = os.getcwd()\n",
    "\n",
    "csv_files = []\n",
    "for root, dirs, files in os.walk(root_dir):\n",
    "    for file in files:\n",
    "        if file.endswith(\".csv\"):\n",
    "            csv_files.append(os.path.join(root, file)\n",
    "                             )\n",
    "data = pd.read_csv(csv_files[0])\n",
    "\n",
    "# Veri setlerini Customer ID üzerinde outer join kullanarak birleştirdik.\n",
    "for file in csv_files[1:]:\n",
    "    df = pd.read_csv(file)\n",
    "    data = pd.merge(data, df, on=\"Customer ID\", how=\"outer\")"
   ]
  },
  {
   "cell_type": "code",
   "execution_count": 49,
   "metadata": {
    "execution": {
     "iopub.execute_input": "2025-03-09T15:04:49.755834Z",
     "iopub.status.busy": "2025-03-09T15:04:49.755565Z",
     "iopub.status.idle": "2025-03-09T15:04:49.784378Z",
     "shell.execute_reply": "2025-03-09T15:04:49.783051Z",
     "shell.execute_reply.started": "2025-03-09T15:04:49.755810Z"
    },
    "trusted": true
   },
   "outputs": [
    {
     "data": {
      "text/html": [
       "<div>\n",
       "<style scoped>\n",
       "    .dataframe tbody tr th:only-of-type {\n",
       "        vertical-align: middle;\n",
       "    }\n",
       "\n",
       "    .dataframe tbody tr th {\n",
       "        vertical-align: top;\n",
       "    }\n",
       "\n",
       "    .dataframe thead th {\n",
       "        text-align: right;\n",
       "    }\n",
       "</style>\n",
       "<table border=\"1\" class=\"dataframe\">\n",
       "  <thead>\n",
       "    <tr style=\"text-align: right;\">\n",
       "      <th></th>\n",
       "      <th>Customer ID</th>\n",
       "      <th>Year</th>\n",
       "      <th>Quarter</th>\n",
       "      <th>Survey Date</th>\n",
       "      <th>Response Date</th>\n",
       "      <th>How likely are you to recommend insider to a friend or colleague</th>\n",
       "      <th>How would you rate the value you gain from our company</th>\n",
       "      <th>How frequently are you using our platform</th>\n",
       "      <th>Please rate the overall quality of our products</th>\n",
       "      <th>Please rate the usability of the panel</th>\n",
       "      <th>...</th>\n",
       "      <th>Total Revenue</th>\n",
       "      <th>Help Ticket Count</th>\n",
       "      <th>Help Ticket Lead Time (hours)</th>\n",
       "      <th>Company Newsletter Interaction Count</th>\n",
       "      <th>Product Bug Task Count</th>\n",
       "      <th>Region</th>\n",
       "      <th>Vertical</th>\n",
       "      <th>Subvertical</th>\n",
       "      <th>Status</th>\n",
       "      <th>Customer Level</th>\n",
       "    </tr>\n",
       "  </thead>\n",
       "  <tbody>\n",
       "    <tr>\n",
       "      <th>0</th>\n",
       "      <td>CRM-1516050</td>\n",
       "      <td>2022.0</td>\n",
       "      <td>3.0</td>\n",
       "      <td>2022-07-01</td>\n",
       "      <td>2022-08-26</td>\n",
       "      <td>10.0</td>\n",
       "      <td>5.0</td>\n",
       "      <td>Once a Month</td>\n",
       "      <td>5.0</td>\n",
       "      <td>5.0</td>\n",
       "      <td>...</td>\n",
       "      <td>NaN</td>\n",
       "      <td>9.0</td>\n",
       "      <td>418.0</td>\n",
       "      <td>NaN</td>\n",
       "      <td>109.0</td>\n",
       "      <td>Taiwan</td>\n",
       "      <td>Retail</td>\n",
       "      <td>Fashion Retailer</td>\n",
       "      <td>Onboarding</td>\n",
       "      <td>Long-tail</td>\n",
       "    </tr>\n",
       "    <tr>\n",
       "      <th>1</th>\n",
       "      <td>CRM-1516050</td>\n",
       "      <td>2022.0</td>\n",
       "      <td>3.0</td>\n",
       "      <td>2022-07-01</td>\n",
       "      <td>2022-08-26</td>\n",
       "      <td>10.0</td>\n",
       "      <td>5.0</td>\n",
       "      <td>Once a Month</td>\n",
       "      <td>5.0</td>\n",
       "      <td>5.0</td>\n",
       "      <td>...</td>\n",
       "      <td>NaN</td>\n",
       "      <td>9.0</td>\n",
       "      <td>418.0</td>\n",
       "      <td>NaN</td>\n",
       "      <td>112.0</td>\n",
       "      <td>Taiwan</td>\n",
       "      <td>Retail</td>\n",
       "      <td>Fashion Retailer</td>\n",
       "      <td>Onboarding</td>\n",
       "      <td>Long-tail</td>\n",
       "    </tr>\n",
       "    <tr>\n",
       "      <th>2</th>\n",
       "      <td>CRM-1516050</td>\n",
       "      <td>2022.0</td>\n",
       "      <td>3.0</td>\n",
       "      <td>2022-07-01</td>\n",
       "      <td>2022-09-27</td>\n",
       "      <td>10.0</td>\n",
       "      <td>5.0</td>\n",
       "      <td>Once a Month</td>\n",
       "      <td>5.0</td>\n",
       "      <td>5.0</td>\n",
       "      <td>...</td>\n",
       "      <td>NaN</td>\n",
       "      <td>9.0</td>\n",
       "      <td>418.0</td>\n",
       "      <td>NaN</td>\n",
       "      <td>109.0</td>\n",
       "      <td>Taiwan</td>\n",
       "      <td>Retail</td>\n",
       "      <td>Fashion Retailer</td>\n",
       "      <td>Onboarding</td>\n",
       "      <td>Long-tail</td>\n",
       "    </tr>\n",
       "    <tr>\n",
       "      <th>3</th>\n",
       "      <td>CRM-1516050</td>\n",
       "      <td>2022.0</td>\n",
       "      <td>3.0</td>\n",
       "      <td>2022-07-01</td>\n",
       "      <td>2022-09-27</td>\n",
       "      <td>10.0</td>\n",
       "      <td>5.0</td>\n",
       "      <td>Once a Month</td>\n",
       "      <td>5.0</td>\n",
       "      <td>5.0</td>\n",
       "      <td>...</td>\n",
       "      <td>NaN</td>\n",
       "      <td>9.0</td>\n",
       "      <td>418.0</td>\n",
       "      <td>NaN</td>\n",
       "      <td>112.0</td>\n",
       "      <td>Taiwan</td>\n",
       "      <td>Retail</td>\n",
       "      <td>Fashion Retailer</td>\n",
       "      <td>Onboarding</td>\n",
       "      <td>Long-tail</td>\n",
       "    </tr>\n",
       "    <tr>\n",
       "      <th>4</th>\n",
       "      <td>CRM-1470950</td>\n",
       "      <td>2022.0</td>\n",
       "      <td>1.0</td>\n",
       "      <td>2022-01-01</td>\n",
       "      <td>2022-03-25</td>\n",
       "      <td>4.0</td>\n",
       "      <td>3.0</td>\n",
       "      <td>Once a Day</td>\n",
       "      <td>2.0</td>\n",
       "      <td>3.0</td>\n",
       "      <td>...</td>\n",
       "      <td>$732,199</td>\n",
       "      <td>30.0</td>\n",
       "      <td>366.0</td>\n",
       "      <td>3.0</td>\n",
       "      <td>160.0</td>\n",
       "      <td>Thailand</td>\n",
       "      <td>Retail</td>\n",
       "      <td>Marketplace</td>\n",
       "      <td>Retained</td>\n",
       "      <td>Enterprise</td>\n",
       "    </tr>\n",
       "  </tbody>\n",
       "</table>\n",
       "<p>5 rows × 23 columns</p>\n",
       "</div>"
      ],
      "text/plain": [
       "   Customer ID    Year  Quarter Survey Date Response Date  \\\n",
       "0  CRM-1516050  2022.0      3.0  2022-07-01    2022-08-26   \n",
       "1  CRM-1516050  2022.0      3.0  2022-07-01    2022-08-26   \n",
       "2  CRM-1516050  2022.0      3.0  2022-07-01    2022-09-27   \n",
       "3  CRM-1516050  2022.0      3.0  2022-07-01    2022-09-27   \n",
       "4  CRM-1470950  2022.0      1.0  2022-01-01    2022-03-25   \n",
       "\n",
       "   How likely are you to recommend insider to a friend or colleague   \\\n",
       "0                                               10.0                   \n",
       "1                                               10.0                   \n",
       "2                                               10.0                   \n",
       "3                                               10.0                   \n",
       "4                                                4.0                   \n",
       "\n",
       "   How would you rate the value you gain from our company  \\\n",
       "0                                                5.0        \n",
       "1                                                5.0        \n",
       "2                                                5.0        \n",
       "3                                                5.0        \n",
       "4                                                3.0        \n",
       "\n",
       "  How frequently are you using our platform  \\\n",
       "0                              Once a Month   \n",
       "1                              Once a Month   \n",
       "2                              Once a Month   \n",
       "3                              Once a Month   \n",
       "4                                Once a Day   \n",
       "\n",
       "   Please rate the overall quality of our products  \\\n",
       "0                                              5.0   \n",
       "1                                              5.0   \n",
       "2                                              5.0   \n",
       "3                                              5.0   \n",
       "4                                              2.0   \n",
       "\n",
       "   Please rate the usability of the panel  ... Total Revenue  \\\n",
       "0                                     5.0  ...           NaN   \n",
       "1                                     5.0  ...           NaN   \n",
       "2                                     5.0  ...           NaN   \n",
       "3                                     5.0  ...           NaN   \n",
       "4                                     3.0  ...      $732,199   \n",
       "\n",
       "   Help Ticket Count Help Ticket Lead Time (hours)  \\\n",
       "0                9.0                         418.0   \n",
       "1                9.0                         418.0   \n",
       "2                9.0                         418.0   \n",
       "3                9.0                         418.0   \n",
       "4               30.0                         366.0   \n",
       "\n",
       "  Company Newsletter Interaction Count  Product Bug Task Count    Region  \\\n",
       "0                                  NaN                   109.0    Taiwan   \n",
       "1                                  NaN                   112.0    Taiwan   \n",
       "2                                  NaN                   109.0    Taiwan   \n",
       "3                                  NaN                   112.0    Taiwan   \n",
       "4                                  3.0                   160.0  Thailand   \n",
       "\n",
       "   Vertical       Subvertical      Status Customer Level  \n",
       "0    Retail  Fashion Retailer  Onboarding      Long-tail  \n",
       "1    Retail  Fashion Retailer  Onboarding      Long-tail  \n",
       "2    Retail  Fashion Retailer  Onboarding      Long-tail  \n",
       "3    Retail  Fashion Retailer  Onboarding      Long-tail  \n",
       "4    Retail       Marketplace    Retained     Enterprise  \n",
       "\n",
       "[5 rows x 23 columns]"
      ]
     },
     "execution_count": 49,
     "metadata": {},
     "output_type": "execute_result"
    }
   ],
   "source": [
    "# Oluşturulan verinin ilk 5 satırına göz atalım.\n",
    "data.head()"
   ]
  },
  {
   "cell_type": "markdown",
   "metadata": {},
   "source": [
    "# <span style=\"color: #66cdaa ;\">Verinin Keşfi ve Temizlenmesi</span>"
   ]
  },
  {
   "cell_type": "code",
   "execution_count": 50,
   "metadata": {
    "execution": {
     "iopub.execute_input": "2025-03-09T15:04:49.786744Z",
     "iopub.status.busy": "2025-03-09T15:04:49.786407Z",
     "iopub.status.idle": "2025-03-09T15:04:49.818565Z",
     "shell.execute_reply": "2025-03-09T15:04:49.817428Z",
     "shell.execute_reply.started": "2025-03-09T15:04:49.786718Z"
    },
    "trusted": true
   },
   "outputs": [
    {
     "name": "stdout",
     "output_type": "stream",
     "text": [
      "<class 'pandas.core.frame.DataFrame'>\n",
      "RangeIndex: 10572 entries, 0 to 10571\n",
      "Data columns (total 23 columns):\n",
      " #   Column                                                                     Non-Null Count  Dtype  \n",
      "---  ------                                                                     --------------  -----  \n",
      " 0   Customer ID                                                                10556 non-null  object \n",
      " 1   Year                                                                       8495 non-null   float64\n",
      " 2   Quarter                                                                    8495 non-null   float64\n",
      " 3   Survey Date                                                                8495 non-null   object \n",
      " 4   Response Date                                                              8495 non-null   object \n",
      " 5   How likely are you to recommend insider to a friend or colleague           8495 non-null   float64\n",
      " 6   How would you rate the value you gain from our company                     8495 non-null   float64\n",
      " 7   How frequently are you using our platform                                  8486 non-null   object \n",
      " 8   Please rate the overall quality of our products                            8495 non-null   float64\n",
      " 9   Please rate the usability of the panel                                     8192 non-null   float64\n",
      " 10  Please rate your understanding of our reporting capabilities in the panel  8495 non-null   object \n",
      " 11  Customer Age (Months)                                                      10498 non-null  float64\n",
      " 12  MRR                                                                        8897 non-null   object \n",
      " 13  Total Revenue                                                              7567 non-null   object \n",
      " 14  Help Ticket Count                                                          8666 non-null   float64\n",
      " 15  Help Ticket Lead Time (hours)                                              8666 non-null   float64\n",
      " 16  Company Newsletter Interaction Count                                       2226 non-null   float64\n",
      " 17  Product Bug Task Count                                                     8495 non-null   float64\n",
      " 18  Region                                                                     10513 non-null  object \n",
      " 19  Vertical                                                                   10426 non-null  object \n",
      " 20  Subvertical                                                                10347 non-null  object \n",
      " 21  Status                                                                     10514 non-null  object \n",
      " 22  Customer Level                                                             10513 non-null  object \n",
      "dtypes: float64(11), object(12)\n",
      "memory usage: 1.9+ MB\n"
     ]
    }
   ],
   "source": [
    "# Sütunlardaki veri noktalarının tutarlılığının ve her sütunun türünün incelenmesi\n",
    "data.info()"
   ]
  },
  {
   "cell_type": "markdown",
   "metadata": {},
   "source": [
    "### <span style=\"color: #556b2f ;\">Buradaki çıktıdan gördüğümüz üzere sütunlar arasındaki veri noktaları arasında büyük farklar var. Büyük ihtimalle eksik veri ve hatta çifte veriler bulunuyor olabilir. Ayrıca sütunların genelinin tipi doğru olsa da MRR ve Total Revenue sütunlarındaki değerleri sayısal formata çevirebiliriz.</span>"
   ]
  },
  {
   "cell_type": "markdown",
   "metadata": {},
   "source": [
    "## <span style=\"color: #66cdaa ;\">Çifte Veri ve Eksik Veri Analizi</span>"
   ]
  },
  {
   "cell_type": "code",
   "execution_count": 51,
   "metadata": {
    "execution": {
     "iopub.execute_input": "2025-03-09T15:04:49.820499Z",
     "iopub.status.busy": "2025-03-09T15:04:49.820144Z",
     "iopub.status.idle": "2025-03-09T15:04:49.841962Z",
     "shell.execute_reply": "2025-03-09T15:04:49.840907Z",
     "shell.execute_reply.started": "2025-03-09T15:04:49.820463Z"
    },
    "trusted": true
   },
   "outputs": [
    {
     "data": {
      "text/plain": [
       "256"
      ]
     },
     "execution_count": 51,
     "metadata": {},
     "output_type": "execute_result"
    }
   ],
   "source": [
    "# Veri setindeki çifte verilerin sayısını inceleyelim.\n",
    "data.duplicated().sum()"
   ]
  },
  {
   "cell_type": "code",
   "execution_count": 52,
   "metadata": {
    "execution": {
     "iopub.execute_input": "2025-03-09T15:04:49.843869Z",
     "iopub.status.busy": "2025-03-09T15:04:49.843472Z",
     "iopub.status.idle": "2025-03-09T15:04:49.865290Z",
     "shell.execute_reply": "2025-03-09T15:04:49.864175Z",
     "shell.execute_reply.started": "2025-03-09T15:04:49.843832Z"
    },
    "trusted": true
   },
   "outputs": [],
   "source": [
    "# 256 gibi ufak bir boyutta çifte veri var. Bunları çıkarmaya karar verdik.\n",
    "data = data.drop_duplicates()"
   ]
  },
  {
   "cell_type": "code",
   "execution_count": 53,
   "metadata": {
    "execution": {
     "iopub.execute_input": "2025-03-09T15:04:49.866666Z",
     "iopub.status.busy": "2025-03-09T15:04:49.866357Z",
     "iopub.status.idle": "2025-03-09T15:04:49.873384Z",
     "shell.execute_reply": "2025-03-09T15:04:49.872332Z",
     "shell.execute_reply.started": "2025-03-09T15:04:49.866641Z"
    },
    "trusted": true
   },
   "outputs": [
    {
     "data": {
      "text/plain": [
       "(10316, 23)"
      ]
     },
     "execution_count": 53,
     "metadata": {},
     "output_type": "execute_result"
    }
   ],
   "source": [
    "# Verinin bütün boyutunu kontrol edelim.\n",
    "data.shape"
   ]
  },
  {
   "cell_type": "code",
   "execution_count": 54,
   "metadata": {
    "execution": {
     "iopub.execute_input": "2025-03-09T15:04:49.874837Z",
     "iopub.status.busy": "2025-03-09T15:04:49.874542Z",
     "iopub.status.idle": "2025-03-09T15:04:49.903935Z",
     "shell.execute_reply": "2025-03-09T15:04:49.902664Z",
     "shell.execute_reply.started": "2025-03-09T15:04:49.874814Z"
    },
    "trusted": true
   },
   "outputs": [
    {
     "data": {
      "text/plain": [
       "Customer ID                                                                     6\n",
       "Year                                                                         2067\n",
       "Quarter                                                                      2067\n",
       "Survey Date                                                                  2067\n",
       "Response Date                                                                2067\n",
       "How likely are you to recommend insider to a friend or colleague             2067\n",
       "How would you rate the value you gain from our company                       2067\n",
       "How frequently are you using our platform                                    2076\n",
       "Please rate the overall quality of our products                              2067\n",
       "Please rate the usability of the panel                                       2363\n",
       "Please rate your understanding of our reporting capabilities in the panel    2067\n",
       "Customer Age (Months)                                                          64\n",
       "MRR                                                                          1657\n",
       "Total Revenue                                                                2960\n",
       "Help Ticket Count                                                            1869\n",
       "Help Ticket Lead Time (hours)                                                1869\n",
       "Company Newsletter Interaction Count                                         8137\n",
       "Product Bug Task Count                                                       2067\n",
       "Region                                                                         59\n",
       "Vertical                                                                      136\n",
       "Subvertical                                                                   215\n",
       "Status                                                                         58\n",
       "Customer Level                                                                 59\n",
       "dtype: int64"
      ]
     },
     "execution_count": 54,
     "metadata": {},
     "output_type": "execute_result"
    }
   ],
   "source": [
    "# Veri setindeki eksik değerleri inceleyelim.\n",
    "data.isna().sum()"
   ]
  },
  {
   "cell_type": "code",
   "execution_count": 55,
   "metadata": {
    "execution": {
     "iopub.execute_input": "2025-03-09T15:04:49.906878Z",
     "iopub.status.busy": "2025-03-09T15:04:49.906568Z",
     "iopub.status.idle": "2025-03-09T15:04:49.911546Z",
     "shell.execute_reply": "2025-03-09T15:04:49.910207Z",
     "shell.execute_reply.started": "2025-03-09T15:04:49.906844Z"
    },
    "trusted": true
   },
   "outputs": [],
   "source": [
    "# Veri dosyalarını birleştirirken veri noktalarını eşlemek adına yeni noktalar oluşturulmuş olabilir.\n",
    "# Rating verilerinde tutarlı yani eşit sayıda eksik veri bulunduğu için bunları ortak veri noktaları kabul edebiliriz.\n",
    "# 2067 eksik veri bulunan rating sütunlarından birinin eksik verilerini çıkarmayı deneyelim."
   ]
  },
  {
   "cell_type": "code",
   "execution_count": 56,
   "metadata": {
    "execution": {
     "iopub.execute_input": "2025-03-09T15:04:49.913234Z",
     "iopub.status.busy": "2025-03-09T15:04:49.912873Z",
     "iopub.status.idle": "2025-03-09T15:04:49.937745Z",
     "shell.execute_reply": "2025-03-09T15:04:49.936595Z",
     "shell.execute_reply.started": "2025-03-09T15:04:49.913195Z"
    },
    "trusted": true
   },
   "outputs": [],
   "source": [
    "data = data.dropna(subset=['Please rate the overall quality of our products'])"
   ]
  },
  {
   "cell_type": "code",
   "execution_count": 57,
   "metadata": {
    "execution": {
     "iopub.execute_input": "2025-03-09T15:04:49.939306Z",
     "iopub.status.busy": "2025-03-09T15:04:49.938954Z",
     "iopub.status.idle": "2025-03-09T15:04:49.964394Z",
     "shell.execute_reply": "2025-03-09T15:04:49.963102Z",
     "shell.execute_reply.started": "2025-03-09T15:04:49.939279Z"
    },
    "trusted": true
   },
   "outputs": [
    {
     "data": {
      "text/plain": [
       "Customer ID                                                                     0\n",
       "Year                                                                            0\n",
       "Quarter                                                                         0\n",
       "Survey Date                                                                     0\n",
       "Response Date                                                                   0\n",
       "How likely are you to recommend insider to a friend or colleague                0\n",
       "How would you rate the value you gain from our company                          0\n",
       "How frequently are you using our platform                                       9\n",
       "Please rate the overall quality of our products                                 0\n",
       "Please rate the usability of the panel                                        296\n",
       "Please rate your understanding of our reporting capabilities in the panel       0\n",
       "Customer Age (Months)                                                          10\n",
       "MRR                                                                           376\n",
       "Total Revenue                                                                1284\n",
       "Help Ticket Count                                                             607\n",
       "Help Ticket Lead Time (hours)                                                 607\n",
       "Company Newsletter Interaction Count                                         6190\n",
       "Product Bug Task Count                                                          0\n",
       "Region                                                                         10\n",
       "Vertical                                                                       20\n",
       "Subvertical                                                                    69\n",
       "Status                                                                         10\n",
       "Customer Level                                                                 10\n",
       "dtype: int64"
      ]
     },
     "execution_count": 57,
     "metadata": {},
     "output_type": "execute_result"
    }
   ],
   "source": [
    "# Görünüşe göre varsayımımız doğruymuş. Eksik veri bulunan sütunlardaki eksik verilerin çoğunluğu ortak.\n",
    "# Company Newsletter sütununda devasa sayıda eksik veri bulunduğu için bir içgörü elde edemeyeceğimiz için çıkaracağız.\n",
    "data.isna().sum()"
   ]
  },
  {
   "cell_type": "code",
   "execution_count": 58,
   "metadata": {
    "execution": {
     "iopub.execute_input": "2025-03-09T15:04:49.965785Z",
     "iopub.status.busy": "2025-03-09T15:04:49.965477Z",
     "iopub.status.idle": "2025-03-09T15:04:49.990599Z",
     "shell.execute_reply": "2025-03-09T15:04:49.989608Z",
     "shell.execute_reply.started": "2025-03-09T15:04:49.965753Z"
    },
    "trusted": true
   },
   "outputs": [],
   "source": [
    "data = data.drop(columns = ['Company Newsletter Interaction Count'], axis = 1)"
   ]
  },
  {
   "cell_type": "code",
   "execution_count": 59,
   "metadata": {
    "execution": {
     "iopub.execute_input": "2025-03-09T15:04:49.991857Z",
     "iopub.status.busy": "2025-03-09T15:04:49.991586Z",
     "iopub.status.idle": "2025-03-09T15:04:50.020524Z",
     "shell.execute_reply": "2025-03-09T15:04:50.019431Z",
     "shell.execute_reply.started": "2025-03-09T15:04:49.991834Z"
    },
    "trusted": true
   },
   "outputs": [
    {
     "data": {
      "text/plain": [
       "Customer ID                                                                     0\n",
       "Year                                                                            0\n",
       "Quarter                                                                         0\n",
       "Survey Date                                                                     0\n",
       "Response Date                                                                   0\n",
       "How likely are you to recommend insider to a friend or colleague                0\n",
       "How would you rate the value you gain from our company                          0\n",
       "How frequently are you using our platform                                       9\n",
       "Please rate the overall quality of our products                                 0\n",
       "Please rate the usability of the panel                                        296\n",
       "Please rate your understanding of our reporting capabilities in the panel       0\n",
       "Customer Age (Months)                                                          10\n",
       "MRR                                                                           376\n",
       "Total Revenue                                                                1284\n",
       "Help Ticket Count                                                             607\n",
       "Help Ticket Lead Time (hours)                                                 607\n",
       "Product Bug Task Count                                                          0\n",
       "Region                                                                         10\n",
       "Vertical                                                                       20\n",
       "Subvertical                                                                    69\n",
       "Status                                                                         10\n",
       "Customer Level                                                                 10\n",
       "dtype: int64"
      ]
     },
     "execution_count": 59,
     "metadata": {},
     "output_type": "execute_result"
    }
   ],
   "source": [
    "data.isna().sum()"
   ]
  },
  {
   "cell_type": "code",
   "execution_count": 60,
   "metadata": {
    "execution": {
     "iopub.execute_input": "2025-03-09T15:04:50.021797Z",
     "iopub.status.busy": "2025-03-09T15:04:50.021533Z",
     "iopub.status.idle": "2025-03-09T15:04:50.067202Z",
     "shell.execute_reply": "2025-03-09T15:04:50.066150Z",
     "shell.execute_reply.started": "2025-03-09T15:04:50.021774Z"
    },
    "trusted": true
   },
   "outputs": [],
   "source": [
    "cevirilecek_sutunlar = ['MRR', 'Total Revenue']\n",
    "\n",
    "# Döngü içerisinde tanımlanan iki sütunumuz için dolar simgeleri kaldırıyoruz ve sayısal formata çeviriyoruz.\n",
    "for sutun in cevirilecek_sutunlar:\n",
    "    if sutun in data.columns:\n",
    "        data[sutun] = pd.to_numeric(data[sutun].astype(str).str.replace('[$,]', '', regex=True), errors='coerce')"
   ]
  },
  {
   "cell_type": "markdown",
   "metadata": {},
   "source": [
    "## <span style=\"color: #66cdaa ;\">İstatistiksel Analiz</span>"
   ]
  },
  {
   "cell_type": "code",
   "execution_count": 61,
   "metadata": {
    "execution": {
     "iopub.execute_input": "2025-03-09T15:04:50.068359Z",
     "iopub.status.busy": "2025-03-09T15:04:50.068084Z",
     "iopub.status.idle": "2025-03-09T15:04:50.129775Z",
     "shell.execute_reply": "2025-03-09T15:04:50.128492Z",
     "shell.execute_reply.started": "2025-03-09T15:04:50.068336Z"
    },
    "trusted": true
   },
   "outputs": [
    {
     "data": {
      "text/html": [
       "<div>\n",
       "<style scoped>\n",
       "    .dataframe tbody tr th:only-of-type {\n",
       "        vertical-align: middle;\n",
       "    }\n",
       "\n",
       "    .dataframe tbody tr th {\n",
       "        vertical-align: top;\n",
       "    }\n",
       "\n",
       "    .dataframe thead th {\n",
       "        text-align: right;\n",
       "    }\n",
       "</style>\n",
       "<table border=\"1\" class=\"dataframe\">\n",
       "  <thead>\n",
       "    <tr style=\"text-align: right;\">\n",
       "      <th></th>\n",
       "      <th>Year</th>\n",
       "      <th>Quarter</th>\n",
       "      <th>How likely are you to recommend insider to a friend or colleague</th>\n",
       "      <th>How would you rate the value you gain from our company</th>\n",
       "      <th>Please rate the overall quality of our products</th>\n",
       "      <th>Please rate the usability of the panel</th>\n",
       "      <th>Customer Age (Months)</th>\n",
       "      <th>MRR</th>\n",
       "      <th>Total Revenue</th>\n",
       "      <th>Help Ticket Count</th>\n",
       "      <th>Help Ticket Lead Time (hours)</th>\n",
       "      <th>Product Bug Task Count</th>\n",
       "    </tr>\n",
       "  </thead>\n",
       "  <tbody>\n",
       "    <tr>\n",
       "      <th>count</th>\n",
       "      <td>8249.0</td>\n",
       "      <td>8249.000000</td>\n",
       "      <td>8249.000000</td>\n",
       "      <td>8249.000000</td>\n",
       "      <td>8249.000000</td>\n",
       "      <td>7953.000000</td>\n",
       "      <td>8239.000000</td>\n",
       "      <td>7873.000000</td>\n",
       "      <td>6.965000e+03</td>\n",
       "      <td>7642.000000</td>\n",
       "      <td>7642.000000</td>\n",
       "      <td>8249.000000</td>\n",
       "    </tr>\n",
       "    <tr>\n",
       "      <th>mean</th>\n",
       "      <td>2022.0</td>\n",
       "      <td>2.064008</td>\n",
       "      <td>8.357862</td>\n",
       "      <td>4.294824</td>\n",
       "      <td>4.159050</td>\n",
       "      <td>4.061486</td>\n",
       "      <td>35.596796</td>\n",
       "      <td>5730.993014</td>\n",
       "      <td>2.368790e+07</td>\n",
       "      <td>33.411280</td>\n",
       "      <td>758.672468</td>\n",
       "      <td>142.609286</td>\n",
       "    </tr>\n",
       "    <tr>\n",
       "      <th>std</th>\n",
       "      <td>0.0</td>\n",
       "      <td>0.833801</td>\n",
       "      <td>1.588773</td>\n",
       "      <td>0.744930</td>\n",
       "      <td>0.799591</td>\n",
       "      <td>0.812606</td>\n",
       "      <td>17.757363</td>\n",
       "      <td>7802.758455</td>\n",
       "      <td>1.679302e+08</td>\n",
       "      <td>41.783264</td>\n",
       "      <td>442.521643</td>\n",
       "      <td>39.206737</td>\n",
       "    </tr>\n",
       "    <tr>\n",
       "      <th>min</th>\n",
       "      <td>2022.0</td>\n",
       "      <td>1.000000</td>\n",
       "      <td>0.000000</td>\n",
       "      <td>1.000000</td>\n",
       "      <td>0.000000</td>\n",
       "      <td>1.000000</td>\n",
       "      <td>1.000000</td>\n",
       "      <td>43.000000</td>\n",
       "      <td>0.000000e+00</td>\n",
       "      <td>1.000000</td>\n",
       "      <td>12.000000</td>\n",
       "      <td>5.000000</td>\n",
       "    </tr>\n",
       "    <tr>\n",
       "      <th>25%</th>\n",
       "      <td>2022.0</td>\n",
       "      <td>1.000000</td>\n",
       "      <td>8.000000</td>\n",
       "      <td>4.000000</td>\n",
       "      <td>4.000000</td>\n",
       "      <td>4.000000</td>\n",
       "      <td>22.000000</td>\n",
       "      <td>1549.000000</td>\n",
       "      <td>2.770000e+04</td>\n",
       "      <td>10.000000</td>\n",
       "      <td>467.000000</td>\n",
       "      <td>116.000000</td>\n",
       "    </tr>\n",
       "    <tr>\n",
       "      <th>50%</th>\n",
       "      <td>2022.0</td>\n",
       "      <td>2.000000</td>\n",
       "      <td>8.000000</td>\n",
       "      <td>4.000000</td>\n",
       "      <td>4.000000</td>\n",
       "      <td>4.000000</td>\n",
       "      <td>29.000000</td>\n",
       "      <td>3459.000000</td>\n",
       "      <td>2.440780e+05</td>\n",
       "      <td>24.000000</td>\n",
       "      <td>656.000000</td>\n",
       "      <td>151.000000</td>\n",
       "    </tr>\n",
       "    <tr>\n",
       "      <th>75%</th>\n",
       "      <td>2022.0</td>\n",
       "      <td>3.000000</td>\n",
       "      <td>10.000000</td>\n",
       "      <td>5.000000</td>\n",
       "      <td>5.000000</td>\n",
       "      <td>5.000000</td>\n",
       "      <td>48.000000</td>\n",
       "      <td>6982.000000</td>\n",
       "      <td>9.661960e+05</td>\n",
       "      <td>44.000000</td>\n",
       "      <td>929.000000</td>\n",
       "      <td>174.000000</td>\n",
       "    </tr>\n",
       "    <tr>\n",
       "      <th>max</th>\n",
       "      <td>2022.0</td>\n",
       "      <td>3.000000</td>\n",
       "      <td>10.000000</td>\n",
       "      <td>5.000000</td>\n",
       "      <td>5.000000</td>\n",
       "      <td>5.000000</td>\n",
       "      <td>72.000000</td>\n",
       "      <td>62732.000000</td>\n",
       "      <td>2.789805e+09</td>\n",
       "      <td>443.000000</td>\n",
       "      <td>3922.000000</td>\n",
       "      <td>200.000000</td>\n",
       "    </tr>\n",
       "  </tbody>\n",
       "</table>\n",
       "</div>"
      ],
      "text/plain": [
       "         Year      Quarter  \\\n",
       "count  8249.0  8249.000000   \n",
       "mean   2022.0     2.064008   \n",
       "std       0.0     0.833801   \n",
       "min    2022.0     1.000000   \n",
       "25%    2022.0     1.000000   \n",
       "50%    2022.0     2.000000   \n",
       "75%    2022.0     3.000000   \n",
       "max    2022.0     3.000000   \n",
       "\n",
       "       How likely are you to recommend insider to a friend or colleague   \\\n",
       "count                                        8249.000000                   \n",
       "mean                                            8.357862                   \n",
       "std                                             1.588773                   \n",
       "min                                             0.000000                   \n",
       "25%                                             8.000000                   \n",
       "50%                                             8.000000                   \n",
       "75%                                            10.000000                   \n",
       "max                                            10.000000                   \n",
       "\n",
       "       How would you rate the value you gain from our company  \\\n",
       "count                                        8249.000000        \n",
       "mean                                            4.294824        \n",
       "std                                             0.744930        \n",
       "min                                             1.000000        \n",
       "25%                                             4.000000        \n",
       "50%                                             4.000000        \n",
       "75%                                             5.000000        \n",
       "max                                             5.000000        \n",
       "\n",
       "       Please rate the overall quality of our products  \\\n",
       "count                                      8249.000000   \n",
       "mean                                          4.159050   \n",
       "std                                           0.799591   \n",
       "min                                           0.000000   \n",
       "25%                                           4.000000   \n",
       "50%                                           4.000000   \n",
       "75%                                           5.000000   \n",
       "max                                           5.000000   \n",
       "\n",
       "       Please rate the usability of the panel  Customer Age (Months)  \\\n",
       "count                             7953.000000            8239.000000   \n",
       "mean                                 4.061486              35.596796   \n",
       "std                                  0.812606              17.757363   \n",
       "min                                  1.000000               1.000000   \n",
       "25%                                  4.000000              22.000000   \n",
       "50%                                  4.000000              29.000000   \n",
       "75%                                  5.000000              48.000000   \n",
       "max                                  5.000000              72.000000   \n",
       "\n",
       "                MRR  Total Revenue  Help Ticket Count  \\\n",
       "count   7873.000000   6.965000e+03        7642.000000   \n",
       "mean    5730.993014   2.368790e+07          33.411280   \n",
       "std     7802.758455   1.679302e+08          41.783264   \n",
       "min       43.000000   0.000000e+00           1.000000   \n",
       "25%     1549.000000   2.770000e+04          10.000000   \n",
       "50%     3459.000000   2.440780e+05          24.000000   \n",
       "75%     6982.000000   9.661960e+05          44.000000   \n",
       "max    62732.000000   2.789805e+09         443.000000   \n",
       "\n",
       "       Help Ticket Lead Time (hours)  Product Bug Task Count  \n",
       "count                    7642.000000             8249.000000  \n",
       "mean                      758.672468              142.609286  \n",
       "std                       442.521643               39.206737  \n",
       "min                        12.000000                5.000000  \n",
       "25%                       467.000000              116.000000  \n",
       "50%                       656.000000              151.000000  \n",
       "75%                       929.000000              174.000000  \n",
       "max                      3922.000000              200.000000  "
      ]
     },
     "execution_count": 61,
     "metadata": {},
     "output_type": "execute_result"
    }
   ],
   "source": [
    "data.describe()"
   ]
  },
  {
   "cell_type": "markdown",
   "metadata": {},
   "source": [
    "### <span style=\"color: #556b2f ;\">Bazı rating sütunlarında minimum 0 değerlerini inceliyoruz. Bu girdiler hatalı veya eksik veri olabilir. Veri setine oranlarını incelememiz gerek. Aynı şekilde Total Revenue 0'dan başlıyor. Çoğu satırda standart sapma yüksek ve fazlaca büyük uç değerler bulunuyor. Eğer bir çözümü makine öğrenmesi ile yapacaksak bu değerlere dikkat etmeliyiz.</span>"
   ]
  },
  {
   "cell_type": "code",
   "execution_count": 62,
   "metadata": {
    "execution": {
     "iopub.execute_input": "2025-03-09T15:04:50.131143Z",
     "iopub.status.busy": "2025-03-09T15:04:50.130799Z",
     "iopub.status.idle": "2025-03-09T15:04:50.140215Z",
     "shell.execute_reply": "2025-03-09T15:04:50.138840Z",
     "shell.execute_reply.started": "2025-03-09T15:04:50.131115Z"
    },
    "trusted": true
   },
   "outputs": [
    {
     "name": "stdout",
     "output_type": "stream",
     "text": [
      "MRR sütununda 0 değeri olan satır sayısı: 0\n",
      "Total Revenue sütununda 0 değeri olan satır sayısı: 713\n",
      "Key Error: 'How likely are you to recommend insider to a friend or colleague'\n",
      "Please rate the overall quality of our products sütununda 0 değeri olan satır sayısı: 54\n"
     ]
    }
   ],
   "source": [
    "sutunlar = ['MRR', 'Total Revenue','How likely are you to recommend insider to a friend or colleague','Please rate the overall quality of our products']\n",
    "\n",
    "for sutun in sutunlar:\n",
    "    if sutun not in data.columns:\n",
    "        print(f\"Key Error: '{sutun}'\")\n",
    "    else:\n",
    "        sifir_sayac = (data[sutun] == 0).sum()\n",
    "        print(f\"{sutun} sütununda 0 değeri olan satır sayısı: {sifir_sayac}\")"
   ]
  },
  {
   "cell_type": "code",
   "execution_count": 63,
   "metadata": {
    "execution": {
     "iopub.execute_input": "2025-03-09T15:04:50.143455Z",
     "iopub.status.busy": "2025-03-09T15:04:50.143127Z",
     "iopub.status.idle": "2025-03-09T15:04:50.160683Z",
     "shell.execute_reply": "2025-03-09T15:04:50.159313Z",
     "shell.execute_reply.started": "2025-03-09T15:04:50.143428Z"
    },
    "trusted": true
   },
   "outputs": [
    {
     "data": {
      "text/plain": [
       "Index(['Customer ID', 'Year', 'Quarter', 'Survey Date', 'Response Date',\n",
       "       'How likely are you to recommend insider to a friend or colleague ',\n",
       "       'How would you rate the value you gain from our company',\n",
       "       'How frequently are you using our platform',\n",
       "       'Please rate the overall quality of our products',\n",
       "       'Please rate the usability of the panel',\n",
       "       'Please rate your understanding of our reporting capabilities in the panel',\n",
       "       'Customer Age (Months)', 'MRR', 'Total Revenue', 'Help Ticket Count',\n",
       "       'Help Ticket Lead Time (hours)', 'Product Bug Task Count', 'Region',\n",
       "       'Vertical', 'Subvertical', 'Status', 'Customer Level'],\n",
       "      dtype='object')"
      ]
     },
     "execution_count": 63,
     "metadata": {},
     "output_type": "execute_result"
    }
   ],
   "source": [
    "# Key error hatası aldık. Sütun isimlerini kontrol edelim.\n",
    "data.columns"
   ]
  },
  {
   "cell_type": "code",
   "execution_count": 64,
   "metadata": {
    "execution": {
     "iopub.execute_input": "2025-03-09T15:04:50.163410Z",
     "iopub.status.busy": "2025-03-09T15:04:50.162949Z",
     "iopub.status.idle": "2025-03-09T15:04:50.183405Z",
     "shell.execute_reply": "2025-03-09T15:04:50.182106Z",
     "shell.execute_reply.started": "2025-03-09T15:04:50.163368Z"
    },
    "trusted": true
   },
   "outputs": [
    {
     "data": {
      "text/plain": [
       "Index(['CustomerID', 'Year', 'Quarter', 'Survey Date', 'Response Date',\n",
       "       'RatingOfRecommendation', 'RatingOfValue', 'FrequencyOfUse',\n",
       "       'RatingOfQuality', 'RatingOfPanelUsability',\n",
       "       'RatingOfReportingCapabilities', 'CustomerAgeMonths', 'MRR',\n",
       "       'Total Revenue', 'Help Ticket Count', 'HelpTicketLeadTimeHours',\n",
       "       'Product Bug Task Count', 'Region', 'Vertical', 'Subvertical', 'Status',\n",
       "       'Customer Level'],\n",
       "      dtype='object')"
      ]
     },
     "execution_count": 64,
     "metadata": {},
     "output_type": "execute_result"
    }
   ],
   "source": [
    "# Key error hatası aldığımız sütunun sonunda bir boşluk olduğunu görüyoruz. En iyisi sonradan uğraşmamak için yeniden adlandıralım.\n",
    "yeni_isimler = {\n",
    "    'Customer ID': 'CustomerID',\n",
    "    'How likely are you to recommend insider to a friend or colleague ': 'RatingOfRecommendation',\n",
    "    'How would you rate the value you gain from our company': 'RatingOfValue',\n",
    "    'How frequently are you using our platform': 'FrequencyOfUse',\n",
    "    'Please rate the overall quality of our products': 'RatingOfQuality',\n",
    "    'Please rate the usability of the panel': 'RatingOfPanelUsability',\n",
    "    'Please rate your understanding of our reporting capabilities in the panel': 'RatingOfReportingCapabilities',\n",
    "    'Customer Age (Months)': 'CustomerAgeMonths',\n",
    "    'Help Ticket Lead Time (hours)': 'HelpTicketLeadTimeHours',\n",
    "}\n",
    "\n",
    "data.rename(columns=yeni_isimler, inplace=True)\n",
    "data.columns"
   ]
  },
  {
   "cell_type": "code",
   "execution_count": 65,
   "metadata": {
    "execution": {
     "iopub.execute_input": "2025-03-09T15:04:50.185223Z",
     "iopub.status.busy": "2025-03-09T15:04:50.184758Z",
     "iopub.status.idle": "2025-03-09T15:04:50.216773Z",
     "shell.execute_reply": "2025-03-09T15:04:50.215454Z",
     "shell.execute_reply.started": "2025-03-09T15:04:50.185181Z"
    },
    "trusted": true
   },
   "outputs": [
    {
     "name": "stdout",
     "output_type": "stream",
     "text": [
      "MRR sütununda 0 değeri olan satır sayısı: 0\n",
      "Total Revenue sütununda 0 değeri olan satır sayısı: 713\n",
      "RatingOfRecommendation sütununda 0 değeri olan satır sayısı: 21\n",
      "RatingOfQuality sütununda 0 değeri olan satır sayısı: 54\n"
     ]
    }
   ],
   "source": [
    "sutunlar = ['MRR', 'Total Revenue','RatingOfRecommendation','RatingOfQuality']\n",
    "\n",
    "for sutun in sutunlar:\n",
    "    sifir_sayac = data[data[sutun] == 0].shape[0]\n",
    "    print(f\"{sutun} sütununda 0 değeri olan satır sayısı: {sifir_sayac}\")"
   ]
  },
  {
   "cell_type": "markdown",
   "metadata": {},
   "source": [
    "### <span style=\"color: #556b2f ;\">Burada sormamız gereken soru: Gerçekten müşterilerimiz platformumuzdan 0 kazanç elde etmiş olabilir mi? Yoksa bu 0 değerleri yanlış girdiler veya eksik veriler mi? MRR'da 0 değeri bulunmuyor. Yani müşterilerimiz bize aylık olarak bir abonelik ücreti veriyor. Rating sütunlarının 0 olamayacağını düşündüğüm için bunları çıkaracağım.</span>"
   ]
  },
  {
   "cell_type": "code",
   "execution_count": 66,
   "metadata": {
    "execution": {
     "iopub.execute_input": "2025-03-09T15:04:50.218224Z",
     "iopub.status.busy": "2025-03-09T15:04:50.217816Z",
     "iopub.status.idle": "2025-03-09T15:04:50.245635Z",
     "shell.execute_reply": "2025-03-09T15:04:50.244192Z",
     "shell.execute_reply.started": "2025-03-09T15:04:50.218188Z"
    },
    "trusted": true
   },
   "outputs": [
    {
     "name": "stdout",
     "output_type": "stream",
     "text": [
      "Total Revenue sütununda 0 değeri olan satır sayısı: 0\n",
      "RatingOfRecommendation sütununda 0 değeri olan satır sayısı: 0\n",
      "RatingOfQuality sütununda 0 değeri olan satır sayısı: 0\n"
     ]
    }
   ],
   "source": [
    "sutunlar = ['Total Revenue','RatingOfRecommendation','RatingOfQuality']\n",
    "\n",
    "for sutun in sutunlar:\n",
    "    data = data[data[sutun] != 0]\n",
    "    sifir_sayac = data[data[sutun] == 0].shape[0]\n",
    "    print(f\"{sutun} sütununda 0 değeri olan satır sayısı: {sifir_sayac}\")"
   ]
  },
  {
   "cell_type": "code",
   "execution_count": 67,
   "metadata": {
    "execution": {
     "iopub.execute_input": "2025-03-09T15:04:50.247117Z",
     "iopub.status.busy": "2025-03-09T15:04:50.246778Z",
     "iopub.status.idle": "2025-03-09T15:04:50.260523Z",
     "shell.execute_reply": "2025-03-09T15:04:50.259298Z",
     "shell.execute_reply.started": "2025-03-09T15:04:50.247089Z"
    },
    "trusted": true
   },
   "outputs": [
    {
     "data": {
      "text/plain": [
       "CustomerID                          0\n",
       "Year                                0\n",
       "Quarter                             0\n",
       "Survey Date                         0\n",
       "Response Date                       0\n",
       "RatingOfRecommendation              0\n",
       "RatingOfValue                       0\n",
       "FrequencyOfUse                      8\n",
       "RatingOfQuality                     0\n",
       "RatingOfPanelUsability            272\n",
       "RatingOfReportingCapabilities       0\n",
       "CustomerAgeMonths                   9\n",
       "MRR                               365\n",
       "Total Revenue                    1264\n",
       "Help Ticket Count                 471\n",
       "HelpTicketLeadTimeHours           471\n",
       "Product Bug Task Count              0\n",
       "Region                              9\n",
       "Vertical                           19\n",
       "Subvertical                        55\n",
       "Status                              9\n",
       "Customer Level                      9\n",
       "dtype: int64"
      ]
     },
     "execution_count": 67,
     "metadata": {},
     "output_type": "execute_result"
    }
   ],
   "source": [
    "data.isna().sum()"
   ]
  },
  {
   "cell_type": "code",
   "execution_count": 68,
   "metadata": {
    "execution": {
     "iopub.execute_input": "2025-03-09T15:04:50.261897Z",
     "iopub.status.busy": "2025-03-09T15:04:50.261576Z",
     "iopub.status.idle": "2025-03-09T15:04:50.276303Z",
     "shell.execute_reply": "2025-03-09T15:04:50.275198Z",
     "shell.execute_reply.started": "2025-03-09T15:04:50.261863Z"
    },
    "trusted": true
   },
   "outputs": [],
   "source": [
    "# Status, Customer Level, Region, Vertical, Subvertical, FrequencyOfUse sütunları object olduğu için Label Encoder kullanacağız.\n",
    "# Label Encoder ile her bir eşsiz değere bir index atayacağız ve o index sayılarının ortalamasını alıp yuvarlayarak eksik verileri dolduracağız."
   ]
  },
  {
   "cell_type": "code",
   "execution_count": 69,
   "metadata": {
    "execution": {
     "iopub.execute_input": "2025-03-09T15:04:50.277580Z",
     "iopub.status.busy": "2025-03-09T15:04:50.277291Z",
     "iopub.status.idle": "2025-03-09T15:04:50.345425Z",
     "shell.execute_reply": "2025-03-09T15:04:50.344279Z",
     "shell.execute_reply.started": "2025-03-09T15:04:50.277547Z"
    },
    "trusted": true
   },
   "outputs": [
    {
     "name": "stdout",
     "output_type": "stream",
     "text": [
      "CustomerID                          0\n",
      "Year                                0\n",
      "Quarter                             0\n",
      "Survey Date                         0\n",
      "Response Date                       0\n",
      "RatingOfRecommendation              0\n",
      "RatingOfValue                       0\n",
      "FrequencyOfUse                      0\n",
      "RatingOfQuality                     0\n",
      "RatingOfPanelUsability            272\n",
      "RatingOfReportingCapabilities       0\n",
      "CustomerAgeMonths                   9\n",
      "MRR                               365\n",
      "Total Revenue                    1264\n",
      "Help Ticket Count                 471\n",
      "HelpTicketLeadTimeHours           471\n",
      "Product Bug Task Count              0\n",
      "Region                              0\n",
      "Vertical                            0\n",
      "Subvertical                         0\n",
      "Status                              0\n",
      "Customer Level                      0\n",
      "dtype: int64\n"
     ]
    }
   ],
   "source": [
    "from sklearn.preprocessing import LabelEncoder\n",
    "\n",
    "sutunlar = ['Status','Customer Level','Region', 'Vertical', 'Subvertical','FrequencyOfUse']\n",
    "\n",
    "label_encoder = LabelEncoder()\n",
    "\n",
    "for sutun in sutunlar:\n",
    "    mask = data[sutun].isna()\n",
    "    label_encoder = LabelEncoder()\n",
    "    data.loc[~mask, sutun] = label_encoder.fit_transform(data.loc[~mask, sutun].astype(str))\n",
    "    ortalama_deger = np.round(data.loc[~mask, sutun].astype(float).mean())\n",
    "    data.loc[mask, sutun] = ortalama_deger\n",
    "    data[sutun] = label_encoder.inverse_transform(data[sutun].astype(int))\n",
    "\n",
    "print(data.isna().sum())"
   ]
  },
  {
   "cell_type": "code",
   "execution_count": 70,
   "metadata": {
    "execution": {
     "iopub.execute_input": "2025-03-09T15:04:50.346704Z",
     "iopub.status.busy": "2025-03-09T15:04:50.346430Z",
     "iopub.status.idle": "2025-03-09T15:04:50.365149Z",
     "shell.execute_reply": "2025-03-09T15:04:50.363661Z",
     "shell.execute_reply.started": "2025-03-09T15:04:50.346681Z"
    },
    "trusted": true
   },
   "outputs": [
    {
     "data": {
      "text/plain": [
       "CustomerID                       0\n",
       "Year                             0\n",
       "Quarter                          0\n",
       "Survey Date                      0\n",
       "Response Date                    0\n",
       "RatingOfRecommendation           0\n",
       "RatingOfValue                    0\n",
       "FrequencyOfUse                   0\n",
       "RatingOfQuality                  0\n",
       "RatingOfPanelUsability           0\n",
       "RatingOfReportingCapabilities    0\n",
       "CustomerAgeMonths                0\n",
       "MRR                              0\n",
       "Total Revenue                    0\n",
       "Help Ticket Count                0\n",
       "HelpTicketLeadTimeHours          0\n",
       "Product Bug Task Count           0\n",
       "Region                           0\n",
       "Vertical                         0\n",
       "Subvertical                      0\n",
       "Status                           0\n",
       "Customer Level                   0\n",
       "dtype: int64"
      ]
     },
     "execution_count": 70,
     "metadata": {},
     "output_type": "execute_result"
    }
   ],
   "source": [
    "# Ortalama değerler çok fazla uç değerlerden etkilendiği için geri kalan sütunları median ile dolduracağız.\n",
    "sayisal_sutunlar = ['Help Ticket Count', 'HelpTicketLeadTimeHours', 'MRR', 'Total Revenue', 'RatingOfPanelUsability','CustomerAgeMonths']\n",
    "\n",
    "for sutun in sayisal_sutunlar:\n",
    "    data[sutun] = data[sutun].fillna(data[sutun].median())\n",
    "\n",
    "data.isna().sum()"
   ]
  },
  {
   "cell_type": "markdown",
   "metadata": {},
   "source": [
    "### <span style=\"color: #556b2f ;\">Verinin bir kısmını çıkartmak yerine doldurmak ve elde tutmak gerekiyordu çünkü çıkararak ilerlediğimizde elimizdeki verinin Status sütununa ait bütün verileri neredeyse kaybediyorduk. Sadece terminated müşteriler kalıyordu ki bu anlam çıkarmamız için yeterli değil. Bu sebepten dolayı veri temizleme işlemlerini bu şekilde gerçekleştirdik.</span>"
   ]
  },
  {
   "cell_type": "markdown",
   "metadata": {},
   "source": [
    "# <span style=\"color: #66cdaa ;\">Verinin Önizleme ve Basit Görselleştirmeleri</span>"
   ]
  },
  {
   "cell_type": "code",
   "execution_count": 71,
   "metadata": {
    "execution": {
     "iopub.execute_input": "2025-03-09T15:04:50.366748Z",
     "iopub.status.busy": "2025-03-09T15:04:50.366358Z",
     "iopub.status.idle": "2025-03-09T15:04:50.372901Z",
     "shell.execute_reply": "2025-03-09T15:04:50.371913Z",
     "shell.execute_reply.started": "2025-03-09T15:04:50.366709Z"
    },
    "trusted": true
   },
   "outputs": [],
   "source": [
    "# Gerekli kütüphaneleri içeri aktaralım\n",
    "import matplotlib.pyplot as plt\n",
    "import seaborn as sns\n",
    "import warnings\n",
    "warnings.simplefilter(action='ignore', category=FutureWarning)\n"
   ]
  },
  {
   "cell_type": "code",
   "execution_count": 72,
   "metadata": {
    "execution": {
     "iopub.execute_input": "2025-03-09T15:04:50.374276Z",
     "iopub.status.busy": "2025-03-09T15:04:50.373954Z",
     "iopub.status.idle": "2025-03-09T15:04:50.396774Z",
     "shell.execute_reply": "2025-03-09T15:04:50.395485Z",
     "shell.execute_reply.started": "2025-03-09T15:04:50.374248Z"
    },
    "trusted": true
   },
   "outputs": [],
   "source": [
    "# Rating sütunları histogram ile göstereceğimiz için bir fonksiyon tanımlayalım\n",
    "def histogramgrafigi(data, sutun):\n",
    "    plt.figure(figsize=(10, 4))\n",
    "    plt.hist(data[sutun], bins=10, color='#9806fd', edgecolor='black')\n",
    "    plt.title(f\"{sutun} Histogram Grafiği\")\n",
    "    plt.xlabel(sutun)\n",
    "    plt.ylabel('Müşteri Sayısı')\n",
    "    plt.show()"
   ]
  },
  {
   "cell_type": "code",
   "execution_count": 73,
   "metadata": {
    "execution": {
     "iopub.execute_input": "2025-03-09T15:04:50.398167Z",
     "iopub.status.busy": "2025-03-09T15:04:50.397832Z",
     "iopub.status.idle": "2025-03-09T15:04:50.617414Z",
     "shell.execute_reply": "2025-03-09T15:04:50.616168Z",
     "shell.execute_reply.started": "2025-03-09T15:04:50.398142Z"
    },
    "trusted": true
   },
   "outputs": [
    {
     "data": {
      "image/png": "[encoded data removed]",
      "text/plain": [
       "<Figure size 720x288 with 1 Axes>"
      ]
     },
     "metadata": {
      "needs_background": "light"
     },
     "output_type": "display_data"
    }
   ],
   "source": [
    "# Müşterilerin yakınlarına ve arkadaşlarına ne derecede Insider'ı önerdiklerini inceleyelim.\n",
    "# 1: Kesinlikle önermem, 10: Kesinlikle öneririm\n",
    "histogramgrafigi(data, 'RatingOfRecommendation')"
   ]
  },
  {
   "cell_type": "markdown",
   "metadata": {},
   "source": [
    "### <span style=\"color: #556b2f ;\">Öneri derecesinde (8 seviyesi hariç) gittikçe yükselen bir eğri görüyoruz. Ayrıca müşteriler yüksek oranda ürünümüzden memnun ve yakınlarına önermeye yatkın. Bu yönde pazarlama çalışmaları ile, arkadaşını getirene bonuslar kazandırmak gibi vb, daha fazla müşteri elde edilebilir ve pazar payı arttırılabilir.</span>"
   ]
  },
  {
   "cell_type": "code",
   "execution_count": 74,
   "metadata": {
    "execution": {
     "iopub.execute_input": "2025-03-09T15:04:50.618880Z",
     "iopub.status.busy": "2025-03-09T15:04:50.618564Z",
     "iopub.status.idle": "2025-03-09T15:04:50.865867Z",
     "shell.execute_reply": "2025-03-09T15:04:50.864684Z",
     "shell.execute_reply.started": "2025-03-09T15:04:50.618853Z"
    },
    "trusted": true
   },
   "outputs": [
    {
     "data": {
      "image/png": "[encoded data removed]",
      "text/plain": [
       "<Figure size 720x288 with 1 Axes>"
      ]
     },
     "metadata": {
      "needs_background": "light"
     },
     "output_type": "display_data"
    }
   ],
   "source": [
    "histogramgrafigi(data, 'RatingOfValue')"
   ]
  },
  {
   "cell_type": "markdown",
   "metadata": {},
   "source": [
    "### <span style=\"color: #556b2f ;\">Dağılımı incelediğimizde görüyoruz ki müşterilerimizin büyük bir kısmı ürünümüzden yüksek miktarda değer elde ediyor. Fakat yaklaşık 1000 gibi bir sayıda müşteri ortalamanın altında bir değer elde etmiş. Bu müşteriler ile iletişime geçilip hangi konularda sıkıntı yaşadıkları ve niçin değer elde edemedikleri hakkında veriler toplarsak ilerideki süreçler daha sağlıklı ve kaliteli geçecektir. Ayrıca kişisel şekilde müşterilere ulaşmak hem müşterinin markaya bağlılığını arttıracak hem de markanın imajını yükseltecektir.</span>"
   ]
  },
  {
   "cell_type": "code",
   "execution_count": 75,
   "metadata": {
    "execution": {
     "iopub.execute_input": "2025-03-09T15:04:50.867047Z",
     "iopub.status.busy": "2025-03-09T15:04:50.866766Z",
     "iopub.status.idle": "2025-03-09T15:04:51.062584Z",
     "shell.execute_reply": "2025-03-09T15:04:51.061164Z",
     "shell.execute_reply.started": "2025-03-09T15:04:50.866996Z"
    },
    "trusted": true
   },
   "outputs": [
    {
     "data": {
      "image/png": "[encoded data removed]",
      "text/plain": [
       "<Figure size 720x288 with 1 Axes>"
      ]
     },
     "metadata": {
      "needs_background": "light"
     },
     "output_type": "display_data"
    }
   ],
   "source": [
    "sayac = data['FrequencyOfUse'].value_counts()\n",
    "\n",
    "plt.figure(figsize=(10, 4))\n",
    "plt.bar(sayac.index, sayac.values, color='#9806fd', edgecolor='black')\n",
    "plt.title('Kullanım Sıklığı Derecelendirmesi')\n",
    "plt.xlabel('Kullanım Sıklıkları')\n",
    "plt.ylabel('Müşteri Sayısı')\n",
    "plt.show()"
   ]
  },
  {
   "cell_type": "markdown",
   "metadata": {},
   "source": [
    "### <span style=\"color: #556b2f ;\">Bu grafikten görüldüğü üzere müşterilerin neredeyse yarısı günlük olarak ürünümüzü kullanmakta. Yaklaşık yüzde 30 gibi bir müşteri bölümü ise ayda bir ürünümüzü ziyaret ediyor. Bunun belli başlı sebepleri olabilir ve belki bu sebepler sektörel sebepler olabilir. Şu anki önincelemelerimizde müşterilerimizin uygulamamıza daha sık ziyaret etmesi için bir çalışma gerçekleştirebileceği yorumunu yapıyoruz fakat daha derin analizlere geçtiğimizde işin içine sektörleri katarak daha anlamlı içgörüler elde edebiliriz.</span>"
   ]
  },
  {
   "cell_type": "code",
   "execution_count": 76,
   "metadata": {
    "execution": {
     "iopub.execute_input": "2025-03-09T15:04:51.067379Z",
     "iopub.status.busy": "2025-03-09T15:04:51.067009Z",
     "iopub.status.idle": "2025-03-09T15:04:51.314405Z",
     "shell.execute_reply": "2025-03-09T15:04:51.313165Z",
     "shell.execute_reply.started": "2025-03-09T15:04:51.067352Z"
    },
    "trusted": true
   },
   "outputs": [
    {
     "data": {
      "image/png": "[encoded data removed]",
      "text/plain": [
       "<Figure size 720x288 with 1 Axes>"
      ]
     },
     "metadata": {
      "needs_background": "light"
     },
     "output_type": "display_data"
    }
   ],
   "source": [
    "histogramgrafigi(data, 'RatingOfQuality')"
   ]
  },
  {
   "cell_type": "markdown",
   "metadata": {},
   "source": [
    "### <span style=\"color: #556b2f ;\">Bu grafikte üründen elde edilen değer ile benzer dağılımlar gözlemliyoruz. Müşterilere göre ürünün kalitesi ve üründen elde ettikleri değer doğrusal bir ilişki içerisinde bulunduğu gözüküyor. Kalitede sorun yaşayan müşterilerle iletişime geçmek, ar-ge çalışmalarımıza yardımcı olabilir ve farkında bile olmadığımız hataları düzeltmemizde yardımcı rolde bulunabilir.</span>"
   ]
  },
  {
   "cell_type": "code",
   "execution_count": 77,
   "metadata": {
    "execution": {
     "iopub.execute_input": "2025-03-09T15:04:51.317150Z",
     "iopub.status.busy": "2025-03-09T15:04:51.316737Z",
     "iopub.status.idle": "2025-03-09T15:04:51.558617Z",
     "shell.execute_reply": "2025-03-09T15:04:51.557313Z",
     "shell.execute_reply.started": "2025-03-09T15:04:51.317119Z"
    },
    "trusted": true
   },
   "outputs": [
    {
     "data": {
      "image/png": "[encoded data removed]",
      "text/plain": [
       "<Figure size 720x288 with 1 Axes>"
      ]
     },
     "metadata": {
      "needs_background": "light"
     },
     "output_type": "display_data"
    }
   ],
   "source": [
    "histogramgrafigi(data, 'RatingOfPanelUsability')"
   ]
  },
  {
   "cell_type": "markdown",
   "metadata": {},
   "source": [
    "### <span style=\"color: #556b2f ;\">Ürünümüzün panelinin kullanılabilirliği doğrudan olarak müşteri memnuniyetini ve bu da kazancımızı etkileyecektir. Daha kullanıcı bir dostu arayüz ile kazancımızı arttırabilir, daha da fazla pozitif bir izlenim bırakabiliriz. </span>\n",
    "\n",
    "<span style=\"color: #556b2f ;\"> Bknz: https://acikerisim.fsm.edu.tr/xmlui/handle/11352/4782 </span>"
   ]
  },
  {
   "cell_type": "code",
   "execution_count": 78,
   "metadata": {
    "execution": {
     "iopub.execute_input": "2025-03-09T15:04:51.560066Z",
     "iopub.status.busy": "2025-03-09T15:04:51.559734Z",
     "iopub.status.idle": "2025-03-09T15:04:51.821441Z",
     "shell.execute_reply": "2025-03-09T15:04:51.820073Z",
     "shell.execute_reply.started": "2025-03-09T15:04:51.560040Z"
    },
    "trusted": true
   },
   "outputs": [
    {
     "data": {
      "image/png": "[encoded data removed]",
      "text/plain": [
       "<Figure size 864x432 with 1 Axes>"
      ]
     },
     "metadata": {
      "needs_background": "light"
     },
     "output_type": "display_data"
    }
   ],
   "source": [
    "sayac = data['RatingOfReportingCapabilities'].value_counts()\n",
    "\n",
    "plt.figure(figsize=(12, 6))\n",
    "plt.bar(sayac.index, sayac.values, color='#9806fd', edgecolor='black')\n",
    "plt.title('Hata Bildirme Derecelendirmesi')\n",
    "plt.xlabel('Oylama Seçenekleri')\n",
    "plt.ylabel('Müşteri Sayısı')\n",
    "plt.tick_params(axis='x', rotation=75)\n",
    "plt.show()"
   ]
  },
  {
   "cell_type": "markdown",
   "metadata": {},
   "source": [
    "### <span style=\"color: #556b2f ;\">Verilerimizdeki müşterilerin neredeyse yarısı, hata aldığında ve bir yardıma ihtiyacı bulunduğunda bunu bildirmekte zorluk çekiyor gibi gözüküyor. Bunun önüne geçmek için daha açıklayıcı bir rehber hazırlanabilir. Eğer bulunmuyorsa raporlama hakkında sık sorulan sorular bölümü açılabilir.</span>"
   ]
  },
  {
   "cell_type": "code",
   "execution_count": 79,
   "metadata": {
    "execution": {
     "iopub.execute_input": "2025-03-09T15:04:51.823163Z",
     "iopub.status.busy": "2025-03-09T15:04:51.822719Z",
     "iopub.status.idle": "2025-03-09T15:04:52.073377Z",
     "shell.execute_reply": "2025-03-09T15:04:52.071661Z",
     "shell.execute_reply.started": "2025-03-09T15:04:51.823124Z"
    },
    "trusted": true
   },
   "outputs": [
    {
     "data": {
      "image/png": "[encoded data removed]",
      "text/plain": [
       "<Figure size 720x288 with 1 Axes>"
      ]
     },
     "metadata": {
      "needs_background": "light"
     },
     "output_type": "display_data"
    }
   ],
   "source": [
    "histogramgrafigi(data, 'CustomerAgeMonths')"
   ]
  },
  {
   "cell_type": "markdown",
   "metadata": {},
   "source": [
    "### <span style=\"color: #556b2f ;\">Müşterilerimizin müşteri olma süresini incelediğimizde, en fazla müşteri bulunduran vakit aralığının 25 ay gibi bir süre olduğunu gözlemliyoruz. Çok uzun süreli müşterilerimiz bulunuyor ve dağılımı incelediğimizde daha da yeni müşteriler elde ediyor gibi gözüküyoruz. Bu doğrultuda yeni pazar payı arttırmak yerine müşterilerimize bir sadakat programı ile kendimize bağlamak daha mantıklı olabilir. Bu problem için ileride bir makine öğrenmesi modeli geliştirerek Churn Analizi gerçekleştirebiliriz.</span>"
   ]
  },
  {
   "cell_type": "code",
   "execution_count": 80,
   "metadata": {
    "execution": {
     "iopub.execute_input": "2025-03-09T15:04:52.074641Z",
     "iopub.status.busy": "2025-03-09T15:04:52.074230Z",
     "iopub.status.idle": "2025-03-09T15:04:52.402598Z",
     "shell.execute_reply": "2025-03-09T15:04:52.401315Z",
     "shell.execute_reply.started": "2025-03-09T15:04:52.074604Z"
    },
    "trusted": true
   },
   "outputs": [
    {
     "data": {
      "image/png": "[encoded data removed]",
      "text/plain": [
       "<Figure size 1728x432 with 1 Axes>"
      ]
     },
     "metadata": {
      "needs_background": "light"
     },
     "output_type": "display_data"
    }
   ],
   "source": [
    "plt.figure(figsize=(24, 6))\n",
    "plt.scatter(data['Total Revenue'], data['MRR'], color='#9806fd')\n",
    "plt.title('Müşterilerin Ürünlerimiz Aracılığı ile Toplam Kazancı vs Aylık Müşterilerden Elde Ettiğimiz Kazanç')\n",
    "plt.xlabel('Müşterilerin Ürünlerimiz Aracılığı ile Toplam Kazancı')\n",
    "plt.ylabel('Aylık Müşterilerden Elde Ettiğimiz Kazanç')\n",
    "plt.show()"
   ]
  },
  {
   "cell_type": "markdown",
   "metadata": {},
   "source": [
    "### <span style=\"color: #556b2f ;\">Müşterilerin kazançlarında fazlaca büyük uç değerler bulunduğu için grafik aşırı anlamsız gözüküyor. Aykırı değerleri filtreleyerek daha anlamlı bir grafik çıkarabiliriz. </span>"
   ]
  },
  {
   "cell_type": "code",
   "execution_count": 81,
   "metadata": {
    "execution": {
     "iopub.execute_input": "2025-03-09T15:04:52.404377Z",
     "iopub.status.busy": "2025-03-09T15:04:52.403983Z",
     "iopub.status.idle": "2025-03-09T15:04:52.723962Z",
     "shell.execute_reply": "2025-03-09T15:04:52.722647Z",
     "shell.execute_reply.started": "2025-03-09T15:04:52.404348Z"
    },
    "trusted": true
   },
   "outputs": [
    {
     "data": {
      "text/plain": [
       "<Axes: xlabel='Total Revenue', ylabel='MRR'>"
      ]
     },
     "execution_count": 81,
     "metadata": {},
     "output_type": "execute_result"
    },
    {
     "data": {
      "image/png": "[encoded data removed]",
      "text/plain": [
       "<Figure size 1728x432 with 1 Axes>"
      ]
     },
     "metadata": {
      "needs_background": "light"
     },
     "output_type": "display_data"
    }
   ],
   "source": [
    "# IQR tekniği ile aykırı değerleri filtreleyelim.\n",
    "sutunlar = ['Total Revenue', 'MRR']\n",
    "\n",
    "Q1 = data[sutunlar].quantile(0.25)\n",
    "Q3 = data[sutunlar].quantile(0.75)\n",
    "IQR = Q3 - Q1\n",
    "\n",
    "lower_bound = Q1 - 1.5 * IQR\n",
    "upper_bound = Q3 + 1.5 * IQR\n",
    "\n",
    "grafik_data = data[~((data[sutunlar] < lower_bound) | (data[sutunlar] > upper_bound)).any(axis=1)]\n",
    "\n",
    "plt.figure(figsize=(24, 6))\n",
    "sns.histplot(x = grafik_data['Total Revenue'], y= grafik_data['MRR'] , bins=(50,25), color='#9806fd', edgecolor='black')"
   ]
  },
  {
   "cell_type": "markdown",
   "metadata": {},
   "source": [
    "### <span style=\"color: #556b2f ;\">Müşterilerin büyük bölümü ürünümüze aylık olarak 0-8000 dolar arası bir ücret ödüyor. Fakat bu hizmet alan müşterilerin bizim aracılığımızla kazandığı gelir çok değişkenlik gösteriyor. Daha anlamlı içgörüler çıkarmak için sektör veya iş bilgisi eklenebilir ekstra boyut olarak. </span>"
   ]
  },
  {
   "cell_type": "code",
   "execution_count": 82,
   "metadata": {
    "execution": {
     "iopub.execute_input": "2025-03-09T15:04:52.725651Z",
     "iopub.status.busy": "2025-03-09T15:04:52.725346Z",
     "iopub.status.idle": "2025-03-09T15:04:52.908516Z",
     "shell.execute_reply": "2025-03-09T15:04:52.907314Z",
     "shell.execute_reply.started": "2025-03-09T15:04:52.725625Z"
    },
    "trusted": true
   },
   "outputs": [
    {
     "data": {
      "image/png": "[encoded data removed]",
      "text/plain": [
       "<Figure size 864x432 with 1 Axes>"
      ]
     },
     "metadata": {
      "needs_background": "light"
     },
     "output_type": "display_data"
    }
   ],
   "source": [
    "sayac = data['Customer Level'].value_counts()\n",
    "\n",
    "plt.figure(figsize=(12, 6))\n",
    "plt.bar(sayac.index, sayac.values, color='#9806fd', edgecolor='black')\n",
    "plt.title('Müşteri Segmentasyonu')\n",
    "plt.xlabel('Kategoriler')\n",
    "plt.ylabel('Müşteri Sayısı')\n",
    "plt.show()"
   ]
  },
  {
   "cell_type": "markdown",
   "metadata": {},
   "source": [
    "### <span style=\"color: #556b2f ;\">Bizden hizmet alan müşterilerin çoğu kurumsal işletmelermiş. Platformumuzun daha çok kurumsal işletmelere hitap ettiğini söyleyebiliriz. Hatta daha ayrıntılı bir grafik ile platformumuzdan en çok değer kazanan işletme türünün hangisi olduğunu inceleyerek bunun üzerine çalışmalar gerçekleştirebilir, kurumsal dışındaki diğer türlerin platformda neden başarılı olamadığı hakkında araştırmalar yapabiliriz. </span>"
   ]
  },
  {
   "cell_type": "markdown",
   "metadata": {},
   "source": [
    "### <span style=\"color: #556b2f ;\">Müşteriler üzerinde temel izlenimler ve görselleştirmeler yaptığımıza göre daha detaylı ve daha boyutlu derin analizlere geçebiliriz.</span>"
   ]
  },
  {
   "cell_type": "markdown",
   "metadata": {},
   "source": [
    "# <span style=\"color: #66cdaa ;\">İleri Veri Görselleştirmeleri ve Detaylı Analiz</span>"
   ]
  },
  {
   "cell_type": "code",
   "execution_count": 83,
   "metadata": {
    "execution": {
     "iopub.execute_input": "2025-03-09T15:04:52.909727Z",
     "iopub.status.busy": "2025-03-09T15:04:52.909456Z",
     "iopub.status.idle": "2025-03-09T15:04:52.916000Z",
     "shell.execute_reply": "2025-03-09T15:04:52.914563Z",
     "shell.execute_reply.started": "2025-03-09T15:04:52.909703Z"
    },
    "trusted": true
   },
   "outputs": [],
   "source": [
    "# Bar grafiği fonksiyonu tanımlayalım.\n",
    "def bargrafigi(data,a,b,arka):\n",
    "    plt.figure(figsize=(10,6))\n",
    "    sns.barplot(x=a,y=b,data=data,hue=arka)\n",
    "    plt.xticks(rotation=90)"
   ]
  },
  {
   "cell_type": "code",
   "execution_count": 84,
   "metadata": {
    "execution": {
     "iopub.execute_input": "2025-03-09T15:04:52.917631Z",
     "iopub.status.busy": "2025-03-09T15:04:52.917252Z",
     "iopub.status.idle": "2025-03-09T15:04:54.465839Z",
     "shell.execute_reply": "2025-03-09T15:04:54.464542Z",
     "shell.execute_reply.started": "2025-03-09T15:04:52.917595Z"
    },
    "trusted": true
   },
   "outputs": [
    {
     "data": {
      "image/png": "[encoded data removed]",
      "text/plain": [
       "<Figure size 720x432 with 1 Axes>"
      ]
     },
     "metadata": {
      "needs_background": "light"
     },
     "output_type": "display_data"
    }
   ],
   "source": [
    "bargrafigi(data,'Vertical','RatingOfValue','Status')"
   ]
  },
  {
   "cell_type": "markdown",
   "metadata": {},
   "source": [
    "### <span style=\"color: #556b2f ;\">Elimizdeki veriye göre çoğu sektör aktif olarak çalışıyor. Churn olanlar genellikle daha az verim aldığını oylasa da bazı istisnalar bulunuyor bu durum için. Örnek: Career and Education ve Media and Publishing sektörleri. Bu grafikten genel olarak müşteri kitlemiz ürünümüzden iyi derecede değer kazanabiliyor. Bir müşterinin Churn olup olmadığını gösterecek daha farklı grafiklere ihtiyacımız var. </span>"
   ]
  },
  {
   "cell_type": "code",
   "execution_count": 85,
   "metadata": {
    "execution": {
     "iopub.execute_input": "2025-03-09T15:04:54.467673Z",
     "iopub.status.busy": "2025-03-09T15:04:54.467243Z",
     "iopub.status.idle": "2025-03-09T15:04:54.478252Z",
     "shell.execute_reply": "2025-03-09T15:04:54.477123Z",
     "shell.execute_reply.started": "2025-03-09T15:04:54.467636Z"
    },
    "trusted": true
   },
   "outputs": [
    {
     "name": "stdout",
     "output_type": "stream",
     "text": [
      "Karakteristik sütunlar: ['CustomerID', 'Survey Date', 'Response Date', 'FrequencyOfUse', 'RatingOfReportingCapabilities', 'Region', 'Vertical', 'Subvertical', 'Status', 'Customer Level']\n",
      "Sayısal sütunlar: ['Year', 'Quarter', 'RatingOfRecommendation', 'RatingOfValue', 'RatingOfQuality', 'RatingOfPanelUsability', 'CustomerAgeMonths', 'MRR', 'Total Revenue', 'Help Ticket Count', 'HelpTicketLeadTimeHours', 'Product Bug Task Count']\n"
     ]
    }
   ],
   "source": [
    "sayisal_sutunlar = data.select_dtypes(include=['float64']).columns\n",
    "obje_sutunlar = data.select_dtypes(include=['object']).columns\n",
    "\n",
    "print(f\"Karakteristik sütunlar: {list(obje_sutunlar)}\")\n",
    "print(f\"Sayısal sütunlar: {list(sayisal_sutunlar)}\")"
   ]
  },
  {
   "cell_type": "code",
   "execution_count": 86,
   "metadata": {
    "execution": {
     "iopub.execute_input": "2025-03-09T15:04:54.479795Z",
     "iopub.status.busy": "2025-03-09T15:04:54.479456Z",
     "iopub.status.idle": "2025-03-09T15:04:54.992468Z",
     "shell.execute_reply": "2025-03-09T15:04:54.991299Z",
     "shell.execute_reply.started": "2025-03-09T15:04:54.479769Z"
    },
    "trusted": true
   },
   "outputs": [
    {
     "data": {
      "image/png": "[encoded data removed]",
      "text/plain": [
       "<Figure size 720x432 with 1 Axes>"
      ]
     },
     "metadata": {
      "needs_background": "light"
     },
     "output_type": "display_data"
    }
   ],
   "source": [
    "bargrafigi(data, 'Customer Level', 'CustomerAgeMonths', 'FrequencyOfUse' )"
   ]
  },
  {
   "cell_type": "markdown",
   "metadata": {},
   "source": [
    "### <span style=\"color: #556b2f ;\">Kurumsal ve yarı kurumsal işletmelerin çoğunluğu ayda bir ürünümüzü kullanıyormuş ve neredeyse her tür müşteri seviyesinde müşterilerin müşteri yaşı arttıkça ürünü ziyaret etme sıklığı azalıyor gibi gözüküyor. </span>"
   ]
  },
  {
   "cell_type": "code",
   "execution_count": 87,
   "metadata": {
    "execution": {
     "iopub.execute_input": "2025-03-09T15:04:54.993718Z",
     "iopub.status.busy": "2025-03-09T15:04:54.993385Z",
     "iopub.status.idle": "2025-03-09T15:04:56.329778Z",
     "shell.execute_reply": "2025-03-09T15:04:56.328619Z",
     "shell.execute_reply.started": "2025-03-09T15:04:54.993691Z"
    },
    "trusted": true
   },
   "outputs": [
    {
     "data": {
      "image/png": "[encoded data removed]",
      "text/plain": [
       "<Figure size 720x432 with 1 Axes>"
      ]
     },
     "metadata": {
      "needs_background": "light"
     },
     "output_type": "display_data"
    }
   ],
   "source": [
    "bargrafigi(data, 'Vertical', 'Help Ticket Count', 'Status' )"
   ]
  },
  {
   "cell_type": "markdown",
   "metadata": {},
   "source": [
    "### <span style=\"color: #556b2f ;\">Görünüşe göre Travel ve Gaming sektörlerinde çok yüksek yardım talepleri oluşturuluyor. Media ve Publishing gibi bazı sektörlerde ise help ticket count yüksek ise müşterinin churn olabileceğini görüyoruz fakat diğer sektörlerin çoğunda böyle bir durum yok. Bu ticketların ne kadar sürede çözüldüğü ile alakalı olabilir. İncelememiz gerek. </span>"
   ]
  },
  {
   "cell_type": "code",
   "execution_count": 88,
   "metadata": {
    "execution": {
     "iopub.execute_input": "2025-03-09T15:04:56.331174Z",
     "iopub.status.busy": "2025-03-09T15:04:56.330832Z",
     "iopub.status.idle": "2025-03-09T15:04:57.708373Z",
     "shell.execute_reply": "2025-03-09T15:04:57.706836Z",
     "shell.execute_reply.started": "2025-03-09T15:04:56.331147Z"
    },
    "trusted": true
   },
   "outputs": [
    {
     "data": {
      "image/png": "[encoded data removed]",
      "text/plain": [
       "<Figure size 720x432 with 1 Axes>"
      ]
     },
     "metadata": {
      "needs_background": "light"
     },
     "output_type": "display_data"
    }
   ],
   "source": [
    "bargrafigi(data, 'Vertical', 'HelpTicketLeadTimeHours', 'Status' )"
   ]
  },
  {
   "cell_type": "markdown",
   "metadata": {},
   "source": [
    "### <span style=\"color: #556b2f ;\">İşte şimdi bir korelasyon gözlemleyebiliriyoruz. Yardım süresi ne kadar uzarsa Churn olma oranı o kadar yüksek gibi gözüküyor. Churn durumunu tahmin edilmek üzere kurulacak bir modelde bu bulguları önceden bulmak özellik seçiminde önemli bir yere sahip.</span>"
   ]
  },
  {
   "cell_type": "code",
   "execution_count": 89,
   "metadata": {
    "execution": {
     "iopub.execute_input": "2025-03-09T15:04:57.710123Z",
     "iopub.status.busy": "2025-03-09T15:04:57.709742Z",
     "iopub.status.idle": "2025-03-09T15:04:59.399259Z",
     "shell.execute_reply": "2025-03-09T15:04:59.397881Z",
     "shell.execute_reply.started": "2025-03-09T15:04:57.710088Z"
    },
    "trusted": true
   },
   "outputs": [
    {
     "data": {
      "image/png": "[encoded data removed]",
      "text/plain": [
       "<Figure size 720x432 with 1 Axes>"
      ]
     },
     "metadata": {
      "needs_background": "light"
     },
     "output_type": "display_data"
    }
   ],
   "source": [
    "bargrafigi(data, 'Region', 'Product Bug Task Count', 'Status' )"
   ]
  },
  {
   "cell_type": "markdown",
   "metadata": {},
   "source": [
    "### <span style=\"color: #556b2f ;\">Bu grafikten de Churn oranının üründeki hatalar ile ilişki gösterdiğini gözlemlemekteyiz.</span>"
   ]
  }
 ],
 "metadata": {
  "kaggle": {
   "accelerator": "none",
   "dataSources": [
    {
     "datasetId": 6811319,
     "sourceId": 10950212,
     "sourceType": "datasetVersion"
    }
   ],
   "dockerImageVersionId": 30918,
   "isGpuEnabled": false,
   "isInternetEnabled": true,
   "language": "python",
   "sourceType": "notebook"
  },
  "kernelspec": {
   "display_name": "base",
   "language": "python",
   "name": "python3"
  },
  "language_info": {
   "codemirror_mode": {
    "name": "ipython",
    "version": 3
   },
   "file_extension": ".py",
   "mimetype": "text/x-python",
   "name": "python",
   "nbconvert_exporter": "python",
   "pygments_lexer": "ipython3",
   "version": "3.8.8"
  }
 },
 "nbformat": 4,
 "nbformat_minor": 4
}
